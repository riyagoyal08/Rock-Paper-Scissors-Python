{
 "cells": [
  {
   "cell_type": "code",
   "execution_count": 3,
   "metadata": {},
   "outputs": [],
   "source": [
    "from random import choice\n",
    "from time import sleep\n"
   ]
  },
  {
   "cell_type": "code",
   "execution_count": 4,
   "metadata": {},
   "outputs": [
    {
     "name": "stdout",
     "output_type": "stream",
     "text": [
      "Welcome To RPS\n",
      "Select any option\n",
      ".R\n",
      ".P\n",
      ".S s\n",
      "Player Wins\n",
      "Computer's choice ->  p\n"
     ]
    }
   ],
   "source": [
    "print(\"Welcome To RPS\")\n",
    "player = input(\"Select any option\\n.R\\n.P\\n.S \").strip().lower()\n",
    "computer = choice(\"rps\")\n",
    "sleep(2.5)\n",
    "if player==computer:\n",
    "    print(\"Draw\")\n",
    "    print(\"Computer's choice -> \",computer)\n",
    "elif player==\"r\" and computer==\"s\" or player==\"p\" and computer==\"r\" or player==\"s\" and computer==\"p\":\n",
    "    print(\"Player Wins\")\n",
    "    print(\"Computer's choice -> \",computer) \n",
    "else:\n",
    "    print(\"Koi Na Teri Time Bhi Ayega\")\n",
    "    print(\"Computer's choice -> \",computer)"
   ]
  },
  {
   "cell_type": "code",
   "execution_count": null,
   "metadata": {},
   "outputs": [],
   "source": []
  }
 ],
 "metadata": {
  "kernelspec": {
   "display_name": "Python 3",
   "language": "python",
   "name": "python3"
  },
  "language_info": {
   "codemirror_mode": {
    "name": "ipython",
    "version": 3
   },
   "file_extension": ".py",
   "mimetype": "text/x-python",
   "name": "python",
   "nbconvert_exporter": "python",
   "pygments_lexer": "ipython3",
   "version": "3.6.5"
  }
 },
 "nbformat": 4,
 "nbformat_minor": 2
}
